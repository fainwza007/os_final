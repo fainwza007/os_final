{
  "nbformat": 4,
  "nbformat_minor": 0,
  "metadata": {
    "colab": {
      "provenance": [],
      "collapsed_sections": []
    },
    "kernelspec": {
      "name": "python3",
      "display_name": "Python 3"
    },
    "language_info": {
      "name": "python"
    }
  },
  "cells": [
    {
      "cell_type": "markdown",
      "source": [
        "###6304101382 นายเอกรินทร์ แสงยอ กลุ่มเรียนที่ 1 (Lab วันพุธ)"
      ],
      "metadata": {
        "id": "0jy13u8tSfdL"
      }
    },
    {
      "cell_type": "code",
      "execution_count": 1,
      "metadata": {
        "colab": {
          "base_uri": "https://localhost:8080/"
        },
        "id": "3RAHwqc-SVlP",
        "outputId": "0de3d7c4-ac97-41cb-e3a0-311b96afba4d"
      },
      "outputs": [
        {
          "output_type": "stream",
          "name": "stdout",
          "text": [
            "6304101382 นายเอกรินทร์ แสงยอ กลุ่มเรียนที่ 1 (Lab วันพุธ)\n"
          ]
        }
      ],
      "source": [
        "print(\"6304101382 นายเอกรินทร์ แสงยอ กลุ่มเรียนที่ 1 (Lab วันพุธ)\")"
      ]
    }
  ]
}